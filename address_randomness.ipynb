{
 "cells": [
  {
   "cell_type": "markdown",
   "metadata": {},
   "source": [
    "# DeadSpace\n",
    "ETH to_addresses queried till block 16,000,000 and stored on GCP Storage\n",
    "\n",
    "Install prerequisite Python packages\n",
    "pip install scipy\n",
    "pip install pandas\n",
    "\n",
    "Download gzip-ed data files into ETH_addresses"
   ]
  },
  {
   "cell_type": "code",
   "execution_count": null,
   "metadata": {},
   "outputs": [],
   "source": [
    "import time\n",
    "from multiprocessing import Pool\n",
    "import pandas as pd\n",
    "import scipy\n",
    "import os\n",
    "from scipy.stats import kstest\n",
    "from scipy.stats import chisquare"
   ]
  },
  {
   "cell_type": "code",
   "execution_count": null,
   "metadata": {},
   "outputs": [],
   "source": [
    "#Chi-Squared randomness test\n",
    "def chi_str(add_str: str):\n",
    "  # Compute the observed frequency of each character in the string\n",
    "  observed_freq = {char: add_str.count(char) for char in set(add_str)}\n",
    "\n",
    "  # Compute the expected frequency of each character in a random string of the same length\n",
    "  expected_freq = {char: len(add_str) / len(set(add_str)) for char in set(add_str)}\n",
    "\n",
    "  # Compute the chi-squared statistic\n",
    "  chi_squared = chisquare(list(observed_freq.values()), f_exp=list(expected_freq.values()))\n",
    "\n",
    "  return chi_squared\n"
   ]
  },
  {
   "cell_type": "code",
   "execution_count": null,
   "metadata": {},
   "outputs": [],
   "source": [
    "#Kolmogorov-Smirnov randomness Test\n",
    "def ks_str(add_str: str):\n",
    "\n",
    "  # Compute the cumulative probability distribution of characters in the string\n",
    "  distribution = [add_str.index(char) / len(add_str) for char in add_str]\n",
    "\n",
    "  # Compute the Kolmogorov-Smirnov statistic\n",
    "  ks_statistic = kstest(distribution, 'uniform')\n",
    "\n",
    "  return ks_statistic"
   ]
  },
  {
   "cell_type": "code",
   "execution_count": null,
   "metadata": {},
   "outputs": [],
   "source": [
    "def etl(file: str):\n",
    "  start_t = time.perf_counter()\n",
    "\n",
    "  # Unzip file\n",
    "  os.system('gunzip -k /storage/ETH_addresses/' + file + ' -c > /storage/tmp/'+file+'_out.json')\n",
    "  os.system('cat /storage/tmp/'+file+'_out.json | jq .to_address > /storage/tmp/'+file+'_addresses.json')\n",
    "  os.system('rm -rf /storage/tmp/'+file+'_out.json')\n",
    "\n",
    "  # Read file into lines[]\n",
    "  read_file = open('/storage/tmp/'+file+'_addresses.json', \"r\")\n",
    "  lines = read_file.read().strip().replace('\"','').replace('null\\n','').split(\"\\n\")\n",
    "  read_file.close()\n",
    "\n",
    "  # PD DataFrame\n",
    "  df = pd.DataFrame(columns=['Address','chi', 'chi_p','ks','ks_p'])\n",
    "\n",
    "  # evaluate randomness of each address\n",
    "  for cnt in range(len(lines)):\n",
    "    chi_result = chi_str(lines[cnt])\n",
    "    ks_result = ks_str(lines[cnt])\n",
    "    df.loc[cnt,:] = [lines[cnt], round(chi_result.statistic,3), round(chi_result.pvalue,3), round(ks_result.statistic,3), format(ks_result.pvalue,'.3e')]\n",
    "\n",
    "  # Save output\n",
    "  df.to_csv('/storage/ETH_randomness/'+file+'.csv')\n",
    "\n",
    "  # Clean up\n",
    "  os.system('rm -rf /storage/tmp/'+file+'_addresses.json')\n",
    "\n",
    "  end_t = time.perf_counter()\n",
    "\n",
    "  return file, start_t - end_t"
   ]
  },
  {
   "cell_type": "code",
   "execution_count": null,
   "metadata": {},
   "outputs": [],
   "source": [
    "# Read files to be processed\n",
    "files = os.listdir('/storage/ETH_addresses/')\n",
    "start_t = time.perf_counter()\n",
    "\n",
    "# Run each file on separate CPU core\n",
    "with Pool() as pool:\n",
    "  results = pool.imap_unordered(etl, files)\n",
    "  for filename, duration in results:\n",
    "    print(f\"{filename} completed in {duration:.2f}s\")\n",
    "\n",
    "ent_t = time.perf_counter()\n",
    "total_duration = ent_t - start_t\n",
    "print(f\"files took {total_duration:.2f}s total\")"
   ]
  },
  {
   "cell_type": "code",
   "execution_count": null,
   "metadata": {},
   "outputs": [],
   "source": []
  }
 ],
 "metadata": {
  "kernelspec": {
   "display_name": "DuneAnalysis",
   "language": "python",
   "name": "python3"
  },
  "language_info": {
   "codemirror_mode": {
    "name": "ipython",
    "version": 3
   },
   "file_extension": ".py",
   "mimetype": "text/x-python",
   "name": "python",
   "nbconvert_exporter": "python",
   "pygments_lexer": "ipython3",
   "version": "3.10.8"
  },
  "orig_nbformat": 4,
  "vscode": {
   "interpreter": {
    "hash": "b5b420d425e0c3a68563d1f4cf4dba5117de0f65014cfa106f8733d04fd118c1"
   }
  }
 },
 "nbformat": 4,
 "nbformat_minor": 2
}
