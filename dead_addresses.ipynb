{
 "cells": [
  {
   "cell_type": "markdown",
   "metadata": {},
   "source": [
    "# DeadSpace\n",
    "This notebook processes ETH to_addresses queried till block 10,000,000 and calculates the Chi-Squared and Kolmogorov-Smirnov test of the ETH addresses to determine which addresses are not randomly generated (outliers)\n",
    "\n",
    "From initial analysis of the outliers from calculated samples Chi and KS values, we can set the filter to be chi > 80 and ks > 0.75\n",
    "\n",
    "<img src=\"./media/chi_boxplot.png\" alt=\"chi_boxplot\" style=\"width: 50%;\"/>\n",
    "<img src=\"./media/ks_boxplot.png\" alt=\"ks_boxplot\" style=\"width: 50%;\"/>"
   ]
  },
  {
   "cell_type": "code",
   "execution_count": null,
   "metadata": {},
   "outputs": [],
   "source": [
    "import time\n",
    "from multiprocessing import Pool\n",
    "import pandas as pd\n",
    "import scipy\n",
    "import os\n",
    "from scipy.stats import kstest\n",
    "from scipy.stats import chisquare\n",
    "import matplotlib.pyplot as plt\n",
    "import seaborn as sns"
   ]
  },
  {
   "cell_type": "code",
   "execution_count": null,
   "metadata": {},
   "outputs": [],
   "source": [
    "ks_filter = 0.75\n",
    "chi_filter = 80"
   ]
  },
  {
   "cell_type": "code",
   "execution_count": null,
   "metadata": {},
   "outputs": [],
   "source": [
    "#Chi-Squared randomness test\n",
    "def chi_str(add_str: str):\n",
    "  # Compute the observed frequency of each character in the string\n",
    "  observed_freq = {char: add_str.count(char) for char in set(add_str)}\n",
    "\n",
    "  # Compute the expected frequency of each character in a random string of the same length\n",
    "  expected_freq = {char: len(add_str) / len(set(add_str)) for char in set(add_str)}\n",
    "\n",
    "  # Compute the chi-squared statistic\n",
    "  chi_squared = chisquare(list(observed_freq.values()), f_exp=list(expected_freq.values()))\n",
    "\n",
    "  return chi_squared.statistic, chi_squared.pvalue\n"
   ]
  },
  {
   "cell_type": "code",
   "execution_count": null,
   "metadata": {},
   "outputs": [],
   "source": [
    "#Kolmogorov-Smirnov randomness Test\n",
    "def ks_str(add_str: str):\n",
    "\n",
    "  # Compute the cumulative probability distribution of characters in the string\n",
    "  distribution = [add_str.index(char) / len(add_str) for char in add_str]\n",
    "\n",
    "  # Compute the Kolmogorov-Smirnov statistic\n",
    "  ks_statistic = kstest(distribution, 'uniform')\n",
    "\n",
    "  return ks_statistic.statistic, ks_statistic.pvalue"
   ]
  },
  {
   "cell_type": "code",
   "execution_count": null,
   "metadata": {},
   "outputs": [],
   "source": [
    "def etl(file: str):\n",
    "  start_t = time.perf_counter()\n",
    "\n",
    "  # Unzip file\n",
    "  os.system('gunzip -k /storage/ETH_addresses/' + file + ' -c > /storage/tmp/'+file+'_out.json')\n",
    "  os.system('cat /storage/tmp/'+file+'_out.json | jq .to_address > /storage/tmp/'+file+'_addresses.json')\n",
    "  os.system('rm -rf /storage/tmp/'+file+'_out.json')\n",
    "\n",
    "  # Read file into lines[]\n",
    "  read_file = open('/storage/tmp/'+file+'_addresses.json', \"r\")\n",
    "  lines = read_file.read().strip().replace('\"','').replace('null\\n','').split(\"\\n\")\n",
    "  read_file.close()\n",
    "\n",
    "  # PD DataFrame\n",
    "  df = pd.DataFrame()\n",
    "  df['Address'] = lines\n",
    "\n",
    "  # evaluate randomness of each address\n",
    "  df[['chi','chi_p']] = df.apply(lambda row: chi_str(row['Address']), axis=1, result_type='expand')\n",
    "  df[['ks','ks_p']]=df.apply(lambda row: ks_str(row['Address']), axis=1, result_type='expand')\n",
    "\n",
    "  # Apply filter values\n",
    "  df = pd.concat([df[df['chi'] > chi_filter].drop_duplicates(), df[df['ks'] > ks_filter].drop_duplicates()], axis=0)\n",
    "\n",
    "  df = df.drop_duplicates()\n",
    "\n",
    "  # Save output\n",
    "  df.to_csv('/storage/ETH_randomness/'+file+'.csv')\n"
   ]
  },
  {
   "cell_type": "code",
   "execution_count": null,
   "metadata": {},
   "outputs": [],
   "source": [
    "# Read files to be processed\n",
    "files = os.listdir('/storage/ETH_addresses/')\n",
    "start_t = time.perf_counter()\n",
    "\n",
    "# Run each file on separate CPU core\n",
    "with Pool() as pool:\n",
    "  results = pool.imap_unordered(etl, files)\n",
    "  for filename, duration in results:\n",
    "    print(f\"{filename} completed in {duration:.2f}s\")\n",
    "\n",
    "ent_t = time.perf_counter()\n",
    "total_duration = ent_t - start_t\n",
    "print(f\"files took {total_duration:.2f}s total\")"
   ]
  },
  {
   "cell_type": "code",
   "execution_count": null,
   "metadata": {},
   "outputs": [],
   "source": [
    "# sns.boxplot(x=df.chi)\n",
    "# plt.show()\n",
    "# sns.boxplot(x=df.ks)\n",
    "# plt.show()"
   ]
  }
 ],
 "metadata": {
  "kernelspec": {
   "display_name": "DuneAnalysis",
   "language": "python",
   "name": "python3"
  },
  "language_info": {
   "codemirror_mode": {
    "name": "ipython",
    "version": 3
   },
   "file_extension": ".py",
   "mimetype": "text/x-python",
   "name": "python",
   "nbconvert_exporter": "python",
   "pygments_lexer": "ipython3",
   "version": "3.10.8 (main, Nov 24 2022, 14:13:03) [GCC 11.2.0]"
  },
  "orig_nbformat": 4,
  "vscode": {
   "interpreter": {
    "hash": "b5b420d425e0c3a68563d1f4cf4dba5117de0f65014cfa106f8733d04fd118c1"
   }
  }
 },
 "nbformat": 4,
 "nbformat_minor": 2
}
